{
 "cells": [
  {
   "cell_type": "code",
   "execution_count": 2,
   "id": "bd9eea53",
   "metadata": {},
   "outputs": [
    {
     "name": "stdout",
     "output_type": "stream",
     "text": [
      "The working directory was: C:\\hjBoralex\\etl\n",
      "The current working directory is: C:\\hjBoralex\\etl\\gitcwd\n"
     ]
    }
   ],
   "source": [
    "import pandas as pd\n",
    "import numpy as np\n",
    "from datetime import datetime\n",
    "import datetime as dt\n",
    "xrange = range\n",
    "from pandasql import sqldf\n",
    "pysqldf = lambda q: sqldf(q, globals())\n",
    "\n",
    "#pd.options.display.float_format = '{:.0f}'.format\n",
    "pd.set_option('display.max_columns', 200)\n",
    "\n",
    "import os\n",
    "print(\"The working directory was: {0}\".format(os.getcwd()))\n",
    "os.chdir(\"C:/hjBoralex/etl/gitcwd\")\n",
    "print(\"The current working directory is: {0}\".format(os.getcwd()))"
   ]
  },
  {
   "cell_type": "code",
   "execution_count": 57,
   "id": "4a5e1fea",
   "metadata": {},
   "outputs": [],
   "source": [
    "mypath = \"C:/Users/hermann.ngayap/Desktop/data/\"\n",
    "marketpath = \"C:/Users/hermann.ngayap/Desktop/data/market/markets/\""
   ]
  },
  {
   "cell_type": "markdown",
   "id": "e2c10d40",
   "metadata": {},
   "source": [
    "## PIPELINE  FICHIER VOLUME MARKET REPOWERING (VMR)"
   ]
  },
  {
   "cell_type": "code",
   "execution_count": 67,
   "id": "c0ea9b5d",
   "metadata": {},
   "outputs": [],
   "source": [
    "df = pd.read_excel(marketpath + \"Volumes marchés_ Repowering.xlsx\", sheet_name=\"BD_temp_1\", header=0)\n",
    "\n",
    "#Out projects\n",
    "out_projets = [\"Bougainville\", \"Cham Longe 1\", \"Evits et Josaphats\", \"Remise Reclainville\", \n",
    "               \"Evits et Josaphats\", \"Remise Reclainville\", \"Maurienne / Gourgançon\", \"La Bouleste\", \n",
    "               \"Cham Longe 1 - off\", \"Remise Reclainville - off\", \"Evits et Josaphats - off\", \"Bougainville - off\", \n",
    "               \"Maurienne / Gourgançon - off\", \"Saint-André - off\"]\n",
    "\n",
    "df.rename(columns = {\"Alias\":\"projet\", \"Technologie\":\"technologie\", \"COD\":\"cod\", \"MW 100%\":\"mw\", \"Taux succès\":\"taux_succès\", \n",
    "                     \"MW pondérés\":\"puissance_installée\", \"EOH\":\"eoh\",\"Mécanisme\":\"type_hedge\", \"Début FiT ajusté\":\"date_debut\", \n",
    "                     \"Date Merchant\":\"date_merchant\"}, inplace = True)\n",
    "\n",
    "#Drop rows that contain any value in the list and reset index\n",
    "df = df[df['Parc '].isin(out_projets) == False]\n",
    "df.reset_index(inplace=True, drop=True)\n",
    "\n",
    "#To select rows where Nom is NaN\n",
    "df = df[df['projet'].notna()]\n",
    "df.reset_index(inplace=True, drop=True)\n",
    "\n",
    "#To replace correct eolien & solar writing\n",
    "df[\"technologie\"] = df[\"technologie\"].str.replace(\"Eolien\", \"éolien\")\n",
    "df[\"technologie\"] = df[\"technologie\"].str.replace(\"PV\", \"solaire\")\n",
    "#\n",
    "df[\"puissance_installée\"] = df[\"mw\"] * df[\"taux_succès\"]\n",
    "#\n",
    "df[\"date_dementelement\"] = df[\"date_msi\"] - pd.DateOffset(months=6)\n",
    "#\n",
    "df[\"en_planif\"] = \"Non\"\n",
    "#\n",
    "df = df.assign(asset_id=[1 + i for i in xrange(len(df))])[['asset_id'] + df.columns.tolist()]\n",
    "df = df.assign(rw_id=[1 + i for i in xrange(len(df))])[['rw_id'] + df.columns.tolist()]\n",
    "#\n",
    "df_asset = df[[\"rw_id\",\"asset_id\", \"projet_id\", \"projet\", \"technologie\", \"cod\", \"mw\", \"taux_succès\", \"puissance_installée\", \n",
    "               \"type_hedge\", \"date_debut\", \"eoh\", \"date_merchant\", \"date_dementelement\", \"repowering\", \n",
    "               \"date_msi\", \"en_planif\"]]\n",
    "\n",
    "#To select in planif that should be in volume_repowering \n",
    "vmr_to_planif = df_asset[df_asset['cod'] > (dt.datetime.today() + pd.offsets.YearEnd()).strftime('%Y-%m-%d')]\n",
    "\n",
    "vmr_to_planif = vmr_to_planif[[\"rw_id\", \"asset_id\", \"projet_id\", \"projet\", \"technologie\", \"cod\", \"mw\", \"taux_succès\", \n",
    "                               \"puissance_installée\", \"eoh\", \"date_merchant\", \"date_dementelement\", \n",
    "                               \"repowering\", \"date_msi\", \"en_planif\"]]\n",
    "\n",
    "#To exclude projects in planif from the one in production ones\n",
    "df_asset = df_asset[df_asset['cod'] <= (dt.datetime.today() + pd.offsets.YearEnd()).strftime('%Y-%m-%d')]\n",
    "\n",
    "#\n",
    "hedge_vmr = df_asset[[\"rw_id\", \"projet_id\", \"projet\", \"technologie\", \"type_hedge\", \"cod\", \n",
    "                      \"date_merchant\", \"date_dementelement\", \"puissance_installée\", \"en_planif\"]]\n",
    "#\n",
    "hedge_vmr = hedge_vmr.assign(hedge_id=[1 + i for i in xrange(len(hedge_vmr))])[['hedge_id'] + hedge_vmr.columns.tolist()]\n",
    "#\n",
    "hedge_vmr = hedge_vmr[[\"rw_id\", \"hedge_id\", \"projet_id\", \"projet\", \"technologie\", \"type_hedge\", \"cod\", \n",
    "                       \"date_merchant\", \"date_dementelement\", \"puissance_installée\", \"en_planif\"]]\n",
    "#\n",
    "df_asset = df_asset[[\"rw_id\", \"asset_id\", \"projet_id\", \"projet\", \"technologie\", \"cod\", \"mw\", \"taux_succès\", \"puissance_installée\", \n",
    "                     \"eoh\", \"date_merchant\", \"date_dementelement\", \"repowering\", \"date_msi\", \"en_planif\"]]\n",
    "\n",
    "#To make export as excel files\n",
    "vmr_to_planif.to_excel(marketpath + \"asset_vmr_to_planif.xlsx\", index=False)\n",
    "df_asset.to_excel(marketpath + \"template_asset_vmr.xlsx\", index=False)\n",
    "hedge_vmr.to_excel(marketpath + \"hedge_vmr.xlsx\", index=False)"
   ]
  },
  {
   "cell_type": "code",
   "execution_count": null,
   "id": "88e16fbf",
   "metadata": {},
   "outputs": [],
   "source": []
  }
 ],
 "metadata": {
  "kernelspec": {
   "display_name": "Python 3 (ipykernel)",
   "language": "python",
   "name": "python3"
  },
  "language_info": {
   "codemirror_mode": {
    "name": "ipython",
    "version": 3
   },
   "file_extension": ".py",
   "mimetype": "text/x-python",
   "name": "python",
   "nbconvert_exporter": "python",
   "pygments_lexer": "ipython3",
   "version": "3.10.4"
  }
 },
 "nbformat": 4,
 "nbformat_minor": 5
}
