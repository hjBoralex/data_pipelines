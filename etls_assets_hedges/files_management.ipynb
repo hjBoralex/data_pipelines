{
 "cells": [
  {
   "cell_type": "code",
   "execution_count": 17,
   "id": "011b8d9f",
   "metadata": {},
   "outputs": [],
   "source": [
    "import os\n",
    "from os import path\n",
    "import glob\n",
    "import shutil"
   ]
  },
  {
   "cell_type": "code",
   "execution_count": 12,
   "id": "781d18f8",
   "metadata": {},
   "outputs": [],
   "source": [
    "marketpath = \"C:/Users/hermann.ngayap/Desktop/data/market/markets/\""
   ]
  },
  {
   "cell_type": "code",
   "execution_count": 16,
   "id": "1ed2135b",
   "metadata": {},
   "outputs": [],
   "source": [
    "def listing(mypath):\n",
    "    items = [os.path.join(mypath, f) for f in os.listdir(mypath)]\n",
    "    for item in items:\n",
    "        print(item)   "
   ]
  },
  {
   "cell_type": "code",
   "execution_count": 13,
   "id": "3a0da3f9",
   "metadata": {},
   "outputs": [
    {
     "name": "stdout",
     "output_type": "stream",
     "text": [
      "Folders created successfuly!\n"
     ]
    }
   ],
   "source": [
    "# # create a folder\n",
    "# dir_path = marketpath + '/in'\n",
    "# if not os.path.exists(dir_path):\n",
    "#     os.makedirs(dir_path)\n",
    "# print('Folder created succesfully!')\n",
    "\n",
    "dir_path = marketpath\n",
    "list = ['in', 'out']\n",
    "for items in list:\n",
    "    #if not os.path.exists(dir_path):\n",
    "    path = os.path.join(dir_path, items)\n",
    "    os.mkdir(path)\n",
    "print('Folders created successfuly!')"
   ]
  },
  {
   "cell_type": "code",
   "execution_count": 19,
   "id": "39d815b4",
   "metadata": {},
   "outputs": [
    {
     "name": "stdout",
     "output_type": "stream",
     "text": [
      "C:/Users/hermann.ngayap/Desktop/data/market/markets/in/Copie de Productibles - Budget 2022 - version 1 loadé du 21 09 2021.xlsx\n",
      "C:/Users/hermann.ngayap/Desktop/data/market/markets/in/Outils planification agrege 2022-2024.xlsm\n",
      "C:/Users/hermann.ngayap/Desktop/data/market/markets/in/Production et stats de tous les parcs B22.xlsx\n",
      "C:/Users/hermann.ngayap/Desktop/data/market/markets/in/Volumes marchés_ Repowering.xlsx\n",
      "=========================\n",
      "Files copied successfuly!\n"
     ]
    }
   ],
   "source": [
    "files = [marketpath + 'Copie de Productibles - Budget 2022 - version 1 loadé du 21 09 2021.xlsx', \n",
    "         marketpath + 'Outils planification agrege 2022-2024.xlsm', \n",
    "         marketpath + 'Production et stats de tous les parcs B22.xlsx',\n",
    "         marketpath + 'Volumes marchés_ Repowering.xlsx'\n",
    "        ]\n",
    "for f in files:\n",
    "    shutil.copy(f, marketpath + 'in/')\n",
    "listing(marketpath + 'in/')\n",
    "print('===========' * 10)\n",
    "print('Files copied successfuly!')"
   ]
  },
  {
   "cell_type": "code",
   "execution_count": null,
   "id": "64e5e585",
   "metadata": {},
   "outputs": [],
   "source": [
    "# rename file\n",
    "print('rename file')\n",
    "os.rename('/home/agusk/py-etl/datasets/newfolder/advertising.txt', '/home/agusk/py-etl/datasets/newfolder/advertising2.txt')\n",
    "listing('/home/agusk/py-etl/datasets/newfolder')\n",
    "print()\n",
    "\n",
    "# move file\n",
    "print('move file')\n",
    "shutil.move('/home/agusk/py-etl/datasets/newfolder/advertising2.txt', '/home/agusk/py-etl/datasets/newfolder/advertising5.txt')\n",
    "listing('/home/agusk/py-etl/datasets/newfolder')\n",
    "print() \n",
    "\n",
    "# delete a file\n",
    "print('delete a file')\n",
    "os.remove('/home/agusk/py-etl/datasets/newfolder/advertising5.txt')\n",
    "listing('/home/agusk/py-etl/datasets/newfolder')\n",
    "print()  \n",
    "\n",
    "# delete folder\n",
    "print('delete folder')\n",
    "shutil.rmtree(dir_path)\n",
    "listing('/home/agusk/py-etl/datasets/')"
   ]
  },
  {
   "cell_type": "code",
   "execution_count": null,
   "id": "417db9fd",
   "metadata": {},
   "outputs": [],
   "source": []
  }
 ],
 "metadata": {
  "kernelspec": {
   "display_name": "Python 3 (ipykernel)",
   "language": "python",
   "name": "python3"
  },
  "language_info": {
   "codemirror_mode": {
    "name": "ipython",
    "version": 3
   },
   "file_extension": ".py",
   "mimetype": "text/x-python",
   "name": "python",
   "nbconvert_exporter": "python",
   "pygments_lexer": "ipython3",
   "version": "3.10.4"
  }
 },
 "nbformat": 4,
 "nbformat_minor": 5
}
