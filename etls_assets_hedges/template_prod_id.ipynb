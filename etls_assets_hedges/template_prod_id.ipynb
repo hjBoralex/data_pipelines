{
 "cells": [
  {
   "cell_type": "code",
   "execution_count": 1,
   "id": "d8203b10",
   "metadata": {},
   "outputs": [
    {
     "name": "stdout",
     "output_type": "stream",
     "text": [
      "The working directory was: C:\\hjBoralex\\etl\\gitcwd\n",
      "The current working directory is: C:\\hjBoralex\\etl\\gitcwd\n"
     ]
    }
   ],
   "source": [
    "import pandas as pd\n",
    "import numpy as np\n",
    "import pyodbc\n",
    "from datetime import datetime\n",
    "import datetime as dt\n",
    "xrange = range\n",
    "from pandasql import sqldf\n",
    "pysqldf = lambda q: sqldf(q, globals())\n",
    "import xlsxwriter\n",
    "\n",
    "#pd.options.display.float_format = '{:.0f}'.format\n",
    "pd.set_option('display.max_columns', 200)\n",
    "\n",
    "import os\n",
    "print(\"The working directory was: {0}\".format(os.getcwd()))\n",
    "os.chdir(\"C:/hjBoralex/etl/gitcwd\")\n",
    "print(\"The current working directory is: {0}\".format(os.getcwd()))"
   ]
  },
  {
   "cell_type": "code",
   "execution_count": 2,
   "id": "38f721cf",
   "metadata": {},
   "outputs": [],
   "source": [
    "cwdpath = \"C:/Users/hermann.ngayap/Desktop/data/market/markets/in/\""
   ]
  },
  {
   "cell_type": "code",
   "execution_count": 16,
   "id": "38b3d07e",
   "metadata": {},
   "outputs": [],
   "source": [
    "#To import \n",
    "prod = pd.read_excel(cwdpath + \"template_prod.xlsx\")\n",
    "prod.sort_values(by=['projet'], inplace=True, ignore_index=True)\n",
    "\n",
    "prod_perc = pd.read_excel(cwdpath + \"template_prod.xlsx\", sheet_name=\"prod_perc\")\n",
    "prod_perc = prod_perc.iloc[:,1:]\n",
    "\n",
    "projet_names_id = pd.read_excel(cwdpath + \"template_asset_vmr_planif.xlsx\", usecols = [\"projet_id\", \"projet\", \"en_planif\"])\n",
    "projet_names_id = projet_names_id.loc[projet_names_id[\"en_planif\"] == \"Non\"]\n",
    "projet_names_id.sort_values(by=['projet'], inplace=True, ignore_index=True)\n",
    "projet_names_id.drop(\"en_planif\", axis=1, inplace=True)"
   ]
  },
  {
   "cell_type": "code",
   "execution_count": 17,
   "id": "5bffd80b",
   "metadata": {},
   "outputs": [],
   "source": [
    "projet_names_id.rename(columns={\"projet_id\":\"code\", \"projet\":\"projet_names\"}, inplace=True)"
   ]
  },
  {
   "cell_type": "code",
   "execution_count": 6,
   "id": "c39786ea",
   "metadata": {},
   "outputs": [
    {
     "name": "stdout",
     "output_type": "stream",
     "text": [
      "(96, 3)\n",
      "(96, 2)\n"
     ]
    }
   ],
   "source": [
    "print(prod.shape)\n",
    "print(projet_names_id.shape)"
   ]
  },
  {
   "cell_type": "code",
   "execution_count": 20,
   "id": "60a13209",
   "metadata": {},
   "outputs": [],
   "source": [
    "#To join 2 data frame\n",
    "frames = [projet_names_id, prod]\n",
    "df = pd.concat(frames, axis=1, ignore_index=False)\n",
    "\n",
    "#To create a new column with projet_id\n",
    "n = 5\n",
    "df.loc[df['projet'].str[:n] == df['projet_names'].str[:n], 'projet_id'] = df[\"code\"]\n",
    "df=df[[\"projet_id\", \"projet\", \"p50\", \"p90\"]]"
   ]
  },
  {
   "cell_type": "markdown",
   "id": "6dde096e",
   "metadata": {},
   "source": [
    "#### TO CHANGE PROD_PERC COLUMN NAMES BY PROJET_ID"
   ]
  },
  {
   "cell_type": "code",
   "execution_count": 23,
   "id": "11a2dc55",
   "metadata": {},
   "outputs": [],
   "source": [
    "n = 5\n",
    "s = (df.assign(names=df['projet'].str[:n])\n",
    "    .drop_duplicates('names')\n",
    "    .set_index('names')['projet_id']\n",
    ")\n",
    "\n",
    "prod_id = (pd\n",
    "   .concat([prod_perc.columns.to_frame().T, prod_perc])\n",
    "   .rename(columns=lambda x: s.loc[x[:n]])\n",
    "\n",
    ")\n",
    "\n",
    "prod_id.reset_index(inplace=True, drop=True)\n",
    "prod_id = prod_id.iloc[1:,:]"
   ]
  },
  {
   "cell_type": "code",
   "execution_count": 25,
   "id": "e233dc83",
   "metadata": {},
   "outputs": [],
   "source": [
    "#To export multiple df into one excel file\n",
    "# Create a Pandas Excel writer using XlsxWriter as the engine.\n",
    "writer = pd.ExcelWriter(cwdpath + 'template_prod.xlsx', engine='xlsxwriter')\n",
    "# Write each dataframe to a different worksheet.\n",
    "prod_id.to_excel(writer, sheet_name=\"prod_id\", float_format=\"%.5f\", index=False)\n",
    "# Close the Pandas Excel writer and output the Excel file.\n",
    "writer.save()"
   ]
  }
 ],
 "metadata": {
  "kernelspec": {
   "display_name": "Python 3 (ipykernel)",
   "language": "python",
   "name": "python3"
  },
  "language_info": {
   "codemirror_mode": {
    "name": "ipython",
    "version": 3
   },
   "file_extension": ".py",
   "mimetype": "text/x-python",
   "name": "python",
   "nbconvert_exporter": "python",
   "pygments_lexer": "ipython3",
   "version": "3.10.4"
  }
 },
 "nbformat": 4,
 "nbformat_minor": 5
}
