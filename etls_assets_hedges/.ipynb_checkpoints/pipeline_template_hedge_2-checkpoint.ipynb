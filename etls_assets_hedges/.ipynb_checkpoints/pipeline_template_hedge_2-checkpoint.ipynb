{
 "cells": [
  {
   "cell_type": "code",
   "execution_count": 1,
   "id": "341669d9",
   "metadata": {},
   "outputs": [
    {
     "name": "stdout",
     "output_type": "stream",
     "text": [
      "The working directory was: C:\\hjBoralex\\etl\n",
      "The current working directory is: C:\\hjBoralex\\etl\\gitcwd\n"
     ]
    }
   ],
   "source": [
    "import pandas as pd\n",
    "import numpy as np\n",
    "from datetime import datetime\n",
    "import datetime as dt\n",
    "xrange = range\n",
    "from pandasql import sqldf\n",
    "pysqldf = lambda q: sqldf(q, globals())\n",
    "import os\n",
    "\n",
    "#pd.options.display.float_format = '{:.0f}'.format\n",
    "pd.set_option('display.max_columns', 200)\n",
    "\n",
    "print(\"The working directory was: {0}\".format(os.getcwd()))\n",
    "os.chdir(\"C:/hjBoralex/etl/gitcwd\")\n",
    "print(\"The current working directory is: {0}\".format(os.getcwd()))"
   ]
  },
  {
   "cell_type": "code",
   "execution_count": 2,
   "id": "7f09b384",
   "metadata": {},
   "outputs": [],
   "source": [
    "mypath = \"C:/Users/hermann.ngayap/Desktop/data/\"\n",
    "marketpath = \"C:/Users/hermann.ngayap/Desktop/data/market/markets/\""
   ]
  },
  {
   "cell_type": "markdown",
   "id": "d35869a7",
   "metadata": {},
   "source": [
    "## PIPELINE HEDGE"
   ]
  },
  {
   "cell_type": "code",
   "execution_count": 16,
   "id": "6831e96b",
   "metadata": {},
   "outputs": [],
   "source": [
    "#To import \n",
    "df_hedge_vmr = pd.read_excel(marketpath + \"hedge_vmr.xlsx\")\n",
    "df_hedge_planif = pd.read_excel(marketpath + \"hedge_planif.xlsx\")\n",
    "\n",
    "#To create hedge df with vmr data\n",
    "df_hedge_vmr[\"profil\"] = np.nan\n",
    "df_hedge_vmr[\"pct_couverture\"] = np.nan\n",
    "df_hedge_vmr[\"contrepartie\"] = np.nan\n",
    "df_hedge_vmr[\"pays_contrepartie\"] = np.nan\n",
    "\n",
    "\n",
    "df_hedge_vmr = df_hedge_vmr[[\"ID\", \"projet_id\", \"projet\", \"technologie\", \"type_hedge\", \"cod\", \"date_merchant\", \n",
    "                             \"date_dementelement\", \"puissance_installée\", \"profil\", \"pct_couverture\", \n",
    "                             \"contrepartie\", \"pays_contrepartie\", \"en_planif\"]]\n",
    "\n",
    "df_hedge_vmr.rename(columns={\"cod\":\"date_debut\", \"date_merchant\":\"date_fin\"}, inplace = True)\n",
    "\n",
    "ppa_vmr = [\"NIBA\" , \"CHEP\", \"ALBE\", \"ALME\", \"ALMO\", \"ALVE\", \"PLOU\"]\n",
    "\n",
    "df_hedge_vmr[\"type_hedge\"] = df_hedge_vmr[\"type_hedge\"].str.replace(\"FiT\", \"OA\")\n",
    "df_hedge_vmr.loc[df_hedge_vmr.projet_id.isin(ppa_vmr) == True, \"type_hedge\"] = \"PPA\" \n",
    "\n",
    "df_hedge_vmr.loc[df_hedge_vmr['type_hedge'] == \"OA\", \"pct_couverture\"] = 1\n",
    "df_hedge_vmr.loc[df_hedge_vmr['type_hedge'] != \"OA\", \"pct_couverture\"] = 1\n",
    "df_hedge_vmr.loc[df_hedge_vmr['type_hedge'] == \"PPA\", \"pct_couverture\"] = 1\n",
    "\n",
    "df_hedge_vmr.to_excel(marketpath + \"template_hedge_vmr.xlsx\", index=False)\n",
    "\n",
    "\n",
    "#To create hedge df with planif data\n",
    "df_hedge_planif[\"type_hedge\"] = \"CR\"\n",
    "df_hedge_planif[\"profil\"] = np.nan\n",
    "df_hedge_planif[\"pct_couverture\"] = np.nan\n",
    "df_hedge_planif[\"contrepartie\"] = np.nan\n",
    "df_hedge_planif[\"pays_contrepartie\"] = np.nan\n",
    "\n",
    "df_hedge_planif = df_hedge_planif[[\"ID\", \"projet_id\", \"projet\", \"technologie\", \"type_hedge\", \"cod\", \"date_merchant\", \n",
    "                                   \"date_dementelement\", \"puissance_installée\", \"profil\", \"pct_couverture\", \n",
    "                                   \"contrepartie\", \"pays_contrepartie\", \"en_planif\"]]\n",
    "\n",
    "df_hedge_planif.rename(columns={\"cod\":\"date_debut\", \"date_merchant\":\"date_fin\"}, inplace = True)\n",
    "\n",
    "ppa_planif = [\"SE19\", \"SE07\"]\n",
    "df_hedge_planif.loc[df_hedge_planif.projet_id.isin(ppa_planif) == True, \"type_hedge\"] = \"PPA\"\n",
    "df_hedge_planif.loc[df_hedge_planif['type_hedge'] == \"CR\", \"pct_couverture\"] = 1\n",
    "df_hedge_planif.loc[df_hedge_planif['type_hedge'] == \"PPA\", \"pct_couverture\"] = 1\n",
    "\n",
    "df_hedge_planif.to_excel(marketpath + \"template_hedge_planif.xlsx\", index=False)\n",
    "\n",
    "#To merge both data frame\n",
    "frames = [df_hedge_vmr, df_hedge_planif]\n",
    "df_hedge = pd.concat(frames)\n",
    "df_hedge.reset_index(inplace=True, drop=True)\n",
    "\n",
    "df_hedge.drop(\"ID\", axis=1, inplace=True)\n",
    "df_hedge = df_hedge.assign(ID=[1 + i for i in xrange(len(df_hedge))])[['ID'] + df_hedge.columns.tolist()]\n",
    "\n",
    "#hedge table\n",
    "df_hedge.to_excel(marketpath + \"hedge.xlsx\", index=False)"
   ]
  },
  {
   "cell_type": "code",
   "execution_count": 23,
   "id": "a00cac69",
   "metadata": {},
   "outputs": [],
   "source": [
    "temp_h_vmr = pd.read_excel(marketpath + \"template_hedge_vmr.xlsx\")\n",
    "temp_h_plan = pd.read_excel(marketpath + \"template_hedge_planif.xlsx\")\n",
    "\n",
    "frames = [temp_h_vmr, temp_h_plan]\n",
    "temp_h_vmr_plan = pd.concat(frames)\n",
    "temp_h_vmr_plan.reset_index(inplace=True, drop=True)\n",
    "\n",
    "temp_h_vmr_plan.to_excel(marketpath + \"template_hedge.xlsx\", index=False)"
   ]
  },
  {
   "cell_type": "code",
   "execution_count": null,
   "id": "25e48841",
   "metadata": {},
   "outputs": [],
   "source": []
  }
 ],
 "metadata": {
  "kernelspec": {
   "display_name": "Python 3 (ipykernel)",
   "language": "python",
   "name": "python3"
  },
  "language_info": {
   "codemirror_mode": {
    "name": "ipython",
    "version": 3
   },
   "file_extension": ".py",
   "mimetype": "text/x-python",
   "name": "python",
   "nbconvert_exporter": "python",
   "pygments_lexer": "ipython3",
   "version": "3.10.4"
  }
 },
 "nbformat": 4,
 "nbformat_minor": 5
}
