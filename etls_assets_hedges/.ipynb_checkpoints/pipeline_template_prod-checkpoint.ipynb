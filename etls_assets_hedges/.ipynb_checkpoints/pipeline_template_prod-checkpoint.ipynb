{
 "cells": [
  {
   "cell_type": "code",
   "execution_count": 1,
   "id": "1c5b9e77",
   "metadata": {},
   "outputs": [
    {
     "name": "stdout",
     "output_type": "stream",
     "text": [
      "The working directory was: C:\\hjBoralex\\etl\\gitcwd\\etls_assets_hedges\n",
      "The current working directory is: C:\\hjBoralex\\etl\\gitcwd\n"
     ]
    }
   ],
   "source": [
    "import pandas as pd\n",
    "import numpy as np\n",
    "import pyodbc\n",
    "from datetime import datetime\n",
    "import datetime as dt\n",
    "xrange = range\n",
    "from pandasql import sqldf\n",
    "pysqldf = lambda q: sqldf(q, globals())\n",
    "import xlsxwriter\n",
    "\n",
    "#pd.options.display.float_format = '{:.0f}'.format\n",
    "pd.set_option('display.max_columns', 200)\n",
    "\n",
    "import os\n",
    "print(\"The working directory was: {0}\".format(os.getcwd()))\n",
    "os.chdir(\"C:/hjBoralex/etl/gitcwd\")\n",
    "print(\"The current working directory is: {0}\".format(os.getcwd()))"
   ]
  },
  {
   "cell_type": "code",
   "execution_count": 3,
   "id": "0aba66cc",
   "metadata": {},
   "outputs": [],
   "source": [
    "cwdpath = \"C:/Users/hermann.ngayap/Desktop/data/market/markets/in/\"\n",
    "outpath = \"C:/Users/hermann.ngayap/Desktop/data/market/markets/out/\""
   ]
  },
  {
   "cell_type": "markdown",
   "id": "8429d4ec",
   "metadata": {},
   "source": [
    "## PIPELINE PRODUCTIBLES"
   ]
  },
  {
   "cell_type": "code",
   "execution_count": 5,
   "id": "c40c0abf",
   "metadata": {},
   "outputs": [],
   "source": [
    "#To extract p50, p90 (annual)  \n",
    "df1 = pd.read_excel(cwdpath +  \"Copie de Productibles - Budget 2022 - version 1 loadé du 21 09 2021.xlsx\", sheet_name=\"Budget 2022\", header=1)\n",
    "df1 = df1[[\"Projet\", \"Budget 2022 (KWh) - P50\", \"Budget 2022 (KWh) - P90 \"]]\n",
    "df1 = df1.iloc[0:105,:]\n",
    "df1[[\"Budget 2022 (KWh) - P50\", \"Budget 2022 (KWh) - P90 \"]] = df1[[\"Budget 2022 (KWh) - P50\", \"Budget 2022 (KWh) - P90 \"]]/1000\n",
    "df1.columns = [\"projet\", \"p50\", \"p90\"]\n",
    "out_projets = [\"Cham Longe Le Courbil (Eole Cevennes)\", \"Cham Longe Bel Air\", \"La Bouleste\", \"CDB Doux le vent\",\n",
    "        \"Evits et Josaphats\", \"Remise Reclainville\", \"Bougainville\", \"Renardières mont de Bezard\",\n",
    "        \"Blendecques Elec\", \"Stockage de l'Arce\"]\n",
    "\n",
    "\n",
    "#drop rows that contain any value in the list and reset index\n",
    "df1 = df1[df1.projet.isin(out_projets) == False]\n",
    "df1.reset_index(inplace=True, drop=True)\n",
    "\n",
    "#To extract p50, p90 (percentage per month) \n",
    "df2 = pd.read_excel(cwdpath +  \"Copie de Productibles - Budget 2022 - version 1 loadé du 21 09 2021.xlsx\", sheet_name=\"BP2022 - Distribution mensuelle\", header=1)\n",
    "df2 = df2.iloc[0:12, 2:108]\n",
    "df2.rename(columns = {'% du P50':'month'}, inplace=True)\n",
    "#drop out parcs\n",
    "out_projets2 = [\"Cham Longe Le Courbil (Eole Cevennes)\", \"Cham Longe Bel Air\", \n",
    "                \"La Bouleste\", \"CDB Doux le vent\", \"Evits et Josaphats\", \n",
    "                \"Remise Reclainville\", \"Bougainville\", \"Renardières mont de Bezard\", \n",
    "                \"Blendecques Elec\"]\n",
    "\n",
    "df2.drop(out_projets2, axis=1, inplace=True)\n",
    "\n",
    "\n",
    "#a list containing solar parcs\n",
    "solaire = [\"Boralex Solaire Les Cigalettes SAS (Montfort)\", \n",
    "           \"Boralex Solaire Lauragais SAS\",\n",
    "           \"Saint Christophe (Clé des champs)\", \n",
    "           \"Peyrolles\"]\n",
    "#To calculate the mean perc for solar\n",
    "df2[\"m_pct_solaire\"] = df2.loc[:,solaire].mean(axis=1)\n",
    "#To calculate the mean perc for eolien\n",
    "df2[\"m_pct_eolien\"] = df2.iloc[:,1:].drop(solaire, axis=1).mean(axis=1)\n",
    "\n",
    "#To create a df containing   \n",
    "mean_perc = df2.iloc[:,[0,-2,-1]]\n",
    "prod_perc = df2.iloc[:, 0:-2]\n",
    "\n",
    "#To rename (add parentheses) on projet names\n",
    "prod_perc.rename(columns = {'Extension seuil de Bapaume XSB':'Extension seuil de Bapaume (XSB)'}, inplace=True)\n",
    "prod_perc.rename(columns = {\"Extension plaine d'Escrebieux XPE\":\"Extension plaine d'Escrebieux (XPE)\"}, inplace=True)\n",
    "#To export \n",
    "#To export multiple df into one excel file\n",
    "# Create a Pandas Excel writer using XlsxWriter as the engine.\n",
    "writer = pd.ExcelWriter(cwdpath + 'template_prod.xlsx', engine='xlsxwriter')\n",
    "# Write each dataframe to a different worksheet.\n",
    "df1.to_excel(writer, sheet_name=\"prod\", float_format=\"%.5f\", index=False)\n",
    "prod_perc.to_excel(writer, sheet_name=\"prod_perc\", float_format=\"%.5f\", index=False)\n",
    "mean_perc.to_excel(writer, sheet_name=\"mean_perc\", float_format=\"%.5f\", index=False)\n",
    "# Close the Pandas Excel writer and output the Excel file.\n",
    "writer.save()"
   ]
  },
  {
   "cell_type": "code",
   "execution_count": 6,
   "id": "a9ed3954",
   "metadata": {},
   "outputs": [],
   "source": [
    "#To import \n",
    "prod = pd.read_excel(cwdpath + \"template_prod.xlsx\")\n",
    "prod.sort_values(by=['projet'], inplace=True, ignore_index=True)\n",
    "\n",
    "prod_perc = pd.read_excel(cwdpath + \"template_prod.xlsx\", sheet_name=\"prod_perc\")\n",
    "prod_perc = prod_perc.iloc[:,1:]\n",
    "\n",
    "projet_names_id = pd.read_excel(cwdpath + \"template_asset_vmr_planif.xlsx\", usecols = [\"projet_id\", \"projet\", \"en_planif\"])\n",
    "projet_names_id = projet_names_id.loc[projet_names_id[\"en_planif\"] == \"Non\"]\n",
    "projet_names_id.sort_values(by=['projet'], inplace=True, ignore_index=True)\n",
    "projet_names_id.drop(\"en_planif\", axis=1, inplace=True)\n",
    "projet_names_id.rename(columns={\"projet_id\":\"code\", \"projet\":\"projet_names\"}, inplace=True)"
   ]
  },
  {
   "cell_type": "code",
   "execution_count": 7,
   "id": "871ed602",
   "metadata": {},
   "outputs": [],
   "source": [
    "#To join 2 data frame\n",
    "frames = [projet_names_id, prod]\n",
    "df = pd.concat(frames, axis=1, ignore_index=False)\n",
    "\n",
    "#To create a new column with projet_id\n",
    "n = 5\n",
    "df.loc[df['projet'].str[:n] == df['projet_names'].str[:n], 'projet_id'] = df[\"code\"]\n",
    "df=df[[\"projet_id\", \"projet\", \"p50\", \"p90\"]]"
   ]
  },
  {
   "cell_type": "code",
   "execution_count": 9,
   "id": "277886fb",
   "metadata": {},
   "outputs": [
    {
     "data": {
      "text/html": [
       "<div>\n",
       "<style scoped>\n",
       "    .dataframe tbody tr th:only-of-type {\n",
       "        vertical-align: middle;\n",
       "    }\n",
       "\n",
       "    .dataframe tbody tr th {\n",
       "        vertical-align: top;\n",
       "    }\n",
       "\n",
       "    .dataframe thead th {\n",
       "        text-align: right;\n",
       "    }\n",
       "</style>\n",
       "<table border=\"1\" class=\"dataframe\">\n",
       "  <thead>\n",
       "    <tr style=\"text-align: right;\">\n",
       "      <th></th>\n",
       "      <th>projet_id</th>\n",
       "      <th>projet</th>\n",
       "      <th>p50</th>\n",
       "      <th>p90</th>\n",
       "    </tr>\n",
       "  </thead>\n",
       "  <tbody>\n",
       "    <tr>\n",
       "      <th>91</th>\n",
       "      <td>VAA2</td>\n",
       "      <td>Vallée d'Arce 2 (NY)</td>\n",
       "      <td>14660.14736</td>\n",
       "      <td>13546.46213</td>\n",
       "    </tr>\n",
       "    <tr>\n",
       "      <th>92</th>\n",
       "      <td>VAA3</td>\n",
       "      <td>Vallée d'Arce 3 (NU)</td>\n",
       "      <td>28677.45444</td>\n",
       "      <td>26498.91854</td>\n",
       "    </tr>\n",
       "    <tr>\n",
       "      <th>93</th>\n",
       "      <td>VDMO</td>\n",
       "      <td>Voie des monts</td>\n",
       "      <td>29020.80200</td>\n",
       "      <td>26479.20000</td>\n",
       "    </tr>\n",
       "    <tr>\n",
       "      <th>94</th>\n",
       "      <td>NaN</td>\n",
       "      <td>Vron</td>\n",
       "      <td>19634.80000</td>\n",
       "      <td>18195.60000</td>\n",
       "    </tr>\n",
       "    <tr>\n",
       "      <th>95</th>\n",
       "      <td>ZOND</td>\n",
       "      <td>Zondrange</td>\n",
       "      <td>21783.06641</td>\n",
       "      <td>19960.04863</td>\n",
       "    </tr>\n",
       "  </tbody>\n",
       "</table>\n",
       "</div>"
      ],
      "text/plain": [
       "   projet_id                projet          p50          p90\n",
       "91      VAA2  Vallée d'Arce 2 (NY)  14660.14736  13546.46213\n",
       "92      VAA3  Vallée d'Arce 3 (NU)  28677.45444  26498.91854\n",
       "93      VDMO        Voie des monts  29020.80200  26479.20000\n",
       "94       NaN                 Vron   19634.80000  18195.60000\n",
       "95      ZOND             Zondrange  21783.06641  19960.04863"
      ]
     },
     "execution_count": 9,
     "metadata": {},
     "output_type": "execute_result"
    }
   ],
   "source": [
    "df.tail()"
   ]
  },
  {
   "cell_type": "markdown",
   "id": "a386ea74",
   "metadata": {},
   "source": [
    "#### TO CHANGE PROD_PERC COLUMN NAMES BY PROJET_ID"
   ]
  },
  {
   "cell_type": "code",
   "execution_count": 11,
   "id": "31fc5a09",
   "metadata": {},
   "outputs": [],
   "source": [
    "n = 5\n",
    "s = (df.assign(names=df['projet'].str[:n])\n",
    "    .drop_duplicates('names')\n",
    "    .set_index('names')['projet_id']\n",
    ")\n",
    "\n",
    "prod_perc_id = (pd\n",
    "   .concat([prod_perc.columns.to_frame().T, prod_perc])\n",
    "   .rename(columns=lambda x: s.loc[x[:n]])\n",
    "\n",
    ")\n",
    "\n",
    "prod_perc_id.reset_index(inplace=True, drop=True)\n",
    "prod_perc_id = prod_perc_id.iloc[1:,:]"
   ]
  },
  {
   "cell_type": "code",
   "execution_count": 14,
   "id": "48a04530",
   "metadata": {},
   "outputs": [],
   "source": [
    "#To export multiple df into one excel file\n",
    "# Create a Pandas Excel writer using XlsxWriter as the engine.\n",
    "writer = pd.ExcelWriter(cwdpath + 'template_prod.xlsx', engine='xlsxwriter')\n",
    "# Write each dataframe to a different worksheet.\n",
    "df.to_excel(writer, sheet_name=\"prod\", float_format=\"%.5f\", index=False)\n",
    "prod_perc_id.to_excel(writer, sheet_name=\"prod_perc_id\", float_format=\"%.5f\", index=False)\n",
    "prod_perc.to_excel(writer, sheet_name=\"prod_perc\", float_format=\"%.5f\", index=False)\n",
    "mean_perc.to_excel(writer, sheet_name=\"mean_perc\", float_format=\"%.5f\", index=False)\n",
    "# Close the Pandas Excel writer and output the Excel file.\n",
    "writer.save()"
   ]
  }
 ],
 "metadata": {
  "kernelspec": {
   "display_name": "Python 3 (ipykernel)",
   "language": "python",
   "name": "python3"
  },
  "language_info": {
   "codemirror_mode": {
    "name": "ipython",
    "version": 3
   },
   "file_extension": ".py",
   "mimetype": "text/x-python",
   "name": "python",
   "nbconvert_exporter": "python",
   "pygments_lexer": "ipython3",
   "version": "3.10.4"
  }
 },
 "nbformat": 4,
 "nbformat_minor": 5
}
