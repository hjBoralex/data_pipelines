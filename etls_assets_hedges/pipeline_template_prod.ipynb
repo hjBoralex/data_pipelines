{
 "cells": [
  {
   "cell_type": "code",
   "execution_count": 3,
   "id": "1c5b9e77",
   "metadata": {},
   "outputs": [
    {
     "name": "stdout",
     "output_type": "stream",
     "text": [
      "The working directory was: C:\\hjBoralex\\etl\\gitcwd\n",
      "The current working directory is: C:\\hjBoralex\\etl\\gitcwd\n"
     ]
    }
   ],
   "source": [
    "import pandas as pd\n",
    "import numpy as np\n",
    "import pyodbc\n",
    "from datetime import datetime\n",
    "import datetime as dt\n",
    "xrange = range\n",
    "from pandasql import sqldf\n",
    "pysqldf = lambda q: sqldf(q, globals())\n",
    "import xlsxwriter\n",
    "\n",
    "#pd.options.display.float_format = '{:.0f}'.format\n",
    "pd.set_option('display.max_columns', 200)\n",
    "\n",
    "import os\n",
    "print(\"The working directory was: {0}\".format(os.getcwd()))\n",
    "os.chdir(\"C:/hjBoralex/etl/gitcwd\")\n",
    "print(\"The current working directory is: {0}\".format(os.getcwd()))"
   ]
  },
  {
   "cell_type": "code",
   "execution_count": 4,
   "id": "0aba66cc",
   "metadata": {},
   "outputs": [],
   "source": [
    "marketpath = \"C:/Users/hermann.ngayap/Desktop/data/market/markets/in/\"\n",
    "inputpath = \"C:/Users/hermann.ngayap/Desktop/data/market/markets/in/\"\n",
    "inpoutpath = \"C:/Users/hermann.ngayap/Desktop/data/market/markets/out/\""
   ]
  },
  {
   "cell_type": "code",
   "execution_count": 7,
   "id": "5aae5081",
   "metadata": {},
   "outputs": [],
   "source": [
    "def listing(mypath):\n",
    "    items = [os.path.join(mypath, f) for f in os.listdir(mypath)]\n",
    "    for item in items:\n",
    "        print(item)"
   ]
  },
  {
   "cell_type": "code",
   "execution_count": 8,
   "id": "c26705e5",
   "metadata": {},
   "outputs": [
    {
     "name": "stdout",
     "output_type": "stream",
     "text": [
      "C:/Users/hermann.ngayap/Desktop/data/market/markets/in/Copie de Productibles - Budget 2022 - version 1 loadé du 21 09 2021.xlsx\n",
      "C:/Users/hermann.ngayap/Desktop/data/market/markets/in/Outils planification agrege 2022-2024.xlsm\n",
      "C:/Users/hermann.ngayap/Desktop/data/market/markets/in/Production et stats de tous les parcs B22.xlsx\n",
      "C:/Users/hermann.ngayap/Desktop/data/market/markets/in/Volumes marchés_ Repowering.xlsx\n",
      "\n"
     ]
    }
   ],
   "source": [
    "listing(marketpath)\n",
    "print()"
   ]
  },
  {
   "cell_type": "markdown",
   "id": "8429d4ec",
   "metadata": {},
   "source": [
    "## PIPELINE PRODUCTIBLES"
   ]
  },
  {
   "cell_type": "code",
   "execution_count": 12,
   "id": "c40c0abf",
   "metadata": {},
   "outputs": [],
   "source": [
    "#To extract p50, p90 (annual)  \n",
    "df1 = pd.read_excel(mypath +  \"Copie de Productibles - Budget 2022 - version 1 loadé du 21 09 2021.xlsx\", sheet_name=\"Budget 2022\", header=1)\n",
    "df1 = df1[[\"Projet\", \"Budget 2022 (KWh) - P50\", \"Budget 2022 (KWh) - P90 \"]]\n",
    "df1 = df1.iloc[0:105,:]\n",
    "df1[[\"Budget 2022 (KWh) - P50\", \"Budget 2022 (KWh) - P90 \"]] = df1[[\"Budget 2022 (KWh) - P50\", \"Budget 2022 (KWh) - P90 \"]]/1000\n",
    "df1.columns = [\"projet\", \"p50\", \"p90\"]\n",
    "out_projets = [\"Cham Longe Le Courbil (Eole Cevennes)\", \"Cham Longe Bel Air\", \"La Bouleste\", \"CDB Doux le vent\",\n",
    "        \"Evits et Josaphats\", \"Remise Reclainville\", \"Bougainville\", \"Renardières mont de Bezard\",\n",
    "        \"Blendecques Elec\", \"Stockage de l'Arce\"]\n",
    "\n",
    "\n",
    "#drop rows that contain any value in the list and reset index\n",
    "df1 = df1[df1.projet.isin(out_projets) == False]\n",
    "df1.reset_index(inplace=True, drop=True)\n",
    "\n",
    "#To extract p50, p90 (percentage per month) \n",
    "df2 = pd.read_excel(mypath +  \"Copie de Productibles - Budget 2022 - version 1 loadé du 21 09 2021.xlsx\", sheet_name=\"BP2022 - Distribution mensuelle\", header=1)\n",
    "df2 = df2.iloc[0:12, 2:108]\n",
    "df2.rename(columns = {'% du P50':'month'}, inplace=True)\n",
    "#drop out parcs\n",
    "out_projets2 = [\"Cham Longe Le Courbil (Eole Cevennes)\", \"Cham Longe Bel Air\", \n",
    "                \"La Bouleste\", \"CDB Doux le vent\", \"Evits et Josaphats\", \n",
    "                \"Remise Reclainville\", \"Bougainville\", \"Renardières mont de Bezard\", \n",
    "                \"Blendecques Elec\"]\n",
    "\n",
    "df2.drop(out_projets2, axis=1, inplace=True)\n",
    "\n",
    "\n",
    "#a list containing solar parcs\n",
    "solaire = [\"Boralex Solaire Les Cigalettes SAS (Montfort)\", \n",
    "           \"Boralex Solaire Lauragais SAS\",\n",
    "           \"Saint Christophe (Clé des champs)\", \n",
    "           \"Peyrolles\"]\n",
    "#To calculate the mean perc for solar\n",
    "df2[\"m_pct_solaire\"] = df2.loc[:,solaire].mean(axis=1)\n",
    "#To calculate the mean perc for eolien\n",
    "df2[\"m_pct_eolien\"] = df2.iloc[:,1:].drop(solaire, axis=1).mean(axis=1)\n",
    "\n",
    "#To create a df containing   \n",
    "mean_perc = df2.iloc[:,[0,-2,-1]]\n",
    "prod_perc = df2.iloc[:, 0:-2]\n",
    "\n",
    "#To rename (add parentheses) on projet names\n",
    "prod_perc.rename(columns = {'Extension seuil de Bapaume XSB':'Extension seuil de Bapaume (XSB)'}, inplace=True)\n",
    "prod_perc.rename(columns = {\"Extension plaine d'Escrebieux XPE\":\"Extension plaine d'Escrebieux (XPE)\"}, inplace=True)\n",
    "\n",
    "#To export \n",
    "#df1.to_excel(marketpath + \"template_prod.xlsx\", index=False, sheet_name=\"prod\", float_format=\"%.3f\")\n",
    "prod_perc.to_excel(marketpath + \"productible_perc.xlsx\", index=False)\n",
    "mean_perc.to_excel(marketpath + \"mean_perc.xlsx\", index=False)\n",
    "\n",
    "#To export multiple df into one excel file\n",
    "# Create a Pandas Excel writer using XlsxWriter as the engine.\n",
    "writer = pd.ExcelWriter(marketpath + 'template_prod.xlsx', engine='xlsxwriter')\n",
    "# Write each dataframe to a different worksheet.\n",
    "df1.to_excel(writer, sheet_name=\"prod\", float_format=\"%.5f\", index=False)\n",
    "prod_perc.to_excel(writer, sheet_name=\"prod_perc\", float_format=\"%.5f\", index=False)\n",
    "mean_perc.to_excel(writer, sheet_name=\"mean_perc\", float_format=\"%.5f\", index=False)\n",
    "# Close the Pandas Excel writer and output the Excel file.\n",
    "writer.save()"
   ]
  },
  {
   "cell_type": "code",
   "execution_count": null,
   "id": "a9ed3954",
   "metadata": {},
   "outputs": [],
   "source": []
  }
 ],
 "metadata": {
  "kernelspec": {
   "display_name": "Python 3 (ipykernel)",
   "language": "python",
   "name": "python3"
  },
  "language_info": {
   "codemirror_mode": {
    "name": "ipython",
    "version": 3
   },
   "file_extension": ".py",
   "mimetype": "text/x-python",
   "name": "python",
   "nbconvert_exporter": "python",
   "pygments_lexer": "ipython3",
   "version": "3.10.4"
  }
 },
 "nbformat": 4,
 "nbformat_minor": 5
}
